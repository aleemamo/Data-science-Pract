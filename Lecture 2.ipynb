{
 "cells": [
  {
   "cell_type": "markdown",
   "id": "e39e7e91",
   "metadata": {},
   "source": [
    "# Hashtag"
   ]
  },
  {
   "cell_type": "code",
   "execution_count": null,
   "id": "2aa17a44-99e7-48f0-a109-9e0c945df040",
   "metadata": {
    "scrolled": false
   },
   "outputs": [],
   "source": [
    "x=input(\"what is your name?\")"
   ]
  },
  {
   "cell_type": "code",
   "execution_count": 1,
   "id": "17bea40d",
   "metadata": {},
   "outputs": [],
   "source": [
    "new_string='Moruf'"
   ]
  },
  {
   "cell_type": "code",
   "execution_count": 2,
   "id": "b29c5398",
   "metadata": {},
   "outputs": [
    {
     "data": {
      "text/plain": [
       "'Moruf'"
      ]
     },
     "execution_count": 2,
     "metadata": {},
     "output_type": "execute_result"
    }
   ],
   "source": [
    "new_string[0:5]"
   ]
  },
  {
   "cell_type": "code",
   "execution_count": 1,
   "id": "6a73421e",
   "metadata": {},
   "outputs": [
    {
     "name": "stdout",
     "output_type": "stream",
     "text": [
      "how old are you?42\n"
     ]
    }
   ],
   "source": [
    "f=input('how old are you?')"
   ]
  },
  {
   "cell_type": "code",
   "execution_count": 3,
   "id": "f3f3b7d0",
   "metadata": {},
   "outputs": [],
   "source": [
    "# how old will you be in 5 years\n",
    "z=int(f)+5"
   ]
  },
  {
   "cell_type": "code",
   "execution_count": 4,
   "id": "328ca542",
   "metadata": {},
   "outputs": [
    {
     "data": {
      "text/plain": [
       "47"
      ]
     },
     "execution_count": 4,
     "metadata": {},
     "output_type": "execute_result"
    }
   ],
   "source": [
    "z"
   ]
  },
  {
   "cell_type": "markdown",
   "id": "853a34bd",
   "metadata": {},
   "source": [
    "# Interactive Project"
   ]
  },
  {
   "cell_type": "code",
   "execution_count": 8,
   "id": "1e2e8c94",
   "metadata": {},
   "outputs": [],
   "source": [
    "import random as rd"
   ]
  },
  {
   "cell_type": "raw",
   "id": "b8370e23",
   "metadata": {},
   "source": [
    "rd.seed(30)"
   ]
  },
  {
   "cell_type": "code",
   "execution_count": 9,
   "id": "350dbbb2",
   "metadata": {
    "scrolled": true
   },
   "outputs": [],
   "source": [
    "number = rd.randint(1,10)"
   ]
  },
  {
   "cell_type": "code",
   "execution_count": 10,
   "id": "128f3f69",
   "metadata": {},
   "outputs": [],
   "source": [
    "guess=None"
   ]
  },
  {
   "cell_type": "code",
   "execution_count": 11,
   "id": "75837401",
   "metadata": {},
   "outputs": [
    {
     "name": "stdout",
     "output_type": "stream",
     "text": [
      "Guess a number between 1-10:3\n",
      "No-try again!\n",
      "Guess a number between 1-10:4\n",
      "No-try again!\n",
      "Guess a number between 1-10:8\n",
      "No-try again!\n",
      "Guess a number between 1-10:6\n",
      "Congratulations - you guessed it!\n"
     ]
    }
   ],
   "source": [
    "while guess!=number:\n",
    "    guess=int(input('Guess a number between 1-10:'))\n",
    "    guess=int(guess)\n",
    "    \n",
    "    if guess==number:\n",
    "        print(\"Congratulations - you guessed it!\")\n",
    "    else:\n",
    "        print(\"No-try again!\")"
   ]
  },
  {
   "cell_type": "code",
   "execution_count": null,
   "id": "392fe674",
   "metadata": {},
   "outputs": [],
   "source": []
  }
 ],
 "metadata": {
  "kernelspec": {
   "display_name": "Python 3 (ipykernel)",
   "language": "python",
   "name": "python3"
  },
  "language_info": {
   "codemirror_mode": {
    "name": "ipython",
    "version": 3
   },
   "file_extension": ".py",
   "mimetype": "text/x-python",
   "name": "python",
   "nbconvert_exporter": "python",
   "pygments_lexer": "ipython3",
   "version": "3.11.1"
  }
 },
 "nbformat": 4,
 "nbformat_minor": 5
}
