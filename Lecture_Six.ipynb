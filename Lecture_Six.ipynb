{
 "cells": [
  {
   "cell_type": "code",
   "execution_count": 1,
   "id": "f20e6eba",
   "metadata": {},
   "outputs": [],
   "source": [
    "import pandas as pd\n",
    "import numpy as np\n",
    "import random as rd"
   ]
  },
  {
   "cell_type": "markdown",
   "id": "5472e7df",
   "metadata": {},
   "source": [
    "# Arithemetic"
   ]
  },
  {
   "cell_type": "code",
   "execution_count": 2,
   "id": "ba1bcf56",
   "metadata": {},
   "outputs": [],
   "source": [
    "## +,-,*,/,**"
   ]
  },
  {
   "cell_type": "code",
   "execution_count": 3,
   "id": "dea409ee",
   "metadata": {},
   "outputs": [
    {
     "name": "stdout",
     "output_type": "stream",
     "text": [
      "1\n",
      "2\n",
      "3\n"
     ]
    }
   ],
   "source": [
    "i=1\n",
    "while i<4:\n",
    "    print(i)\n",
    "    i+=1"
   ]
  },
  {
   "cell_type": "code",
   "execution_count": 4,
   "id": "1dd681ba",
   "metadata": {},
   "outputs": [],
   "source": [
    "x=5\n",
    "y=2"
   ]
  },
  {
   "cell_type": "code",
   "execution_count": 5,
   "id": "b3fff367",
   "metadata": {},
   "outputs": [],
   "source": [
    "z=x**y"
   ]
  },
  {
   "cell_type": "code",
   "execution_count": 6,
   "id": "fe1c5e71",
   "metadata": {},
   "outputs": [
    {
     "data": {
      "text/plain": [
       "25"
      ]
     },
     "execution_count": 6,
     "metadata": {},
     "output_type": "execute_result"
    }
   ],
   "source": [
    "z"
   ]
  },
  {
   "cell_type": "markdown",
   "id": "fa41e492",
   "metadata": {},
   "source": [
    "# Modulus - Remainder Division"
   ]
  },
  {
   "cell_type": "code",
   "execution_count": null,
   "id": "6266da8d",
   "metadata": {},
   "outputs": [],
   "source": []
  }
 ],
 "metadata": {
  "kernelspec": {
   "display_name": "Python 3 (ipykernel)",
   "language": "python",
   "name": "python3"
  },
  "language_info": {
   "codemirror_mode": {
    "name": "ipython",
    "version": 3
   },
   "file_extension": ".py",
   "mimetype": "text/x-python",
   "name": "python",
   "nbconvert_exporter": "python",
   "pygments_lexer": "ipython3",
   "version": "3.9.13"
  }
 },
 "nbformat": 4,
 "nbformat_minor": 5
}
