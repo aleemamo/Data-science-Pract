{
 "cells": [
  {
   "cell_type": "markdown",
   "id": "6716cd8a",
   "metadata": {},
   "source": [
    "# List"
   ]
  },
  {
   "cell_type": "code",
   "execution_count": 1,
   "id": "8cc5372c",
   "metadata": {},
   "outputs": [],
   "source": [
    "import pandas as pd\n",
    "import numpy as np\n",
    "import random as rd"
   ]
  },
  {
   "cell_type": "code",
   "execution_count": 2,
   "id": "5191febb",
   "metadata": {},
   "outputs": [],
   "source": [
    "fruit=['apples','oranges','bananas']"
   ]
  },
  {
   "cell_type": "code",
   "execution_count": 3,
   "id": "8fc688d6",
   "metadata": {},
   "outputs": [],
   "source": [
    "#fruit=['a','b','c']"
   ]
  },
  {
   "cell_type": "code",
   "execution_count": 4,
   "id": "ae1d7cc9",
   "metadata": {},
   "outputs": [
    {
     "data": {
      "text/plain": [
       "'bananas'"
      ]
     },
     "execution_count": 4,
     "metadata": {},
     "output_type": "execute_result"
    }
   ],
   "source": [
    "fruit[2]"
   ]
  },
  {
   "cell_type": "code",
   "execution_count": 5,
   "id": "5327d33d",
   "metadata": {},
   "outputs": [
    {
     "name": "stdout",
     "output_type": "stream",
     "text": [
      "['a', 'b', 'c', 'd']\n"
     ]
    }
   ],
   "source": [
    "# define list\n",
    "list1=['a','b','c','d']\n",
    "# print(list)\n",
    "# print (list1)\n",
    "# replace first value\n",
    "#list1[0]='z'\n",
    "# print(list)\n",
    "print(list1)"
   ]
  },
  {
   "cell_type": "code",
   "execution_count": 6,
   "id": "e79b3d24",
   "metadata": {},
   "outputs": [],
   "source": [
    "multi_list=[[1,2,3],[\"a\",\"b\",\"c\"]]"
   ]
  },
  {
   "cell_type": "code",
   "execution_count": 7,
   "id": "8c5bebd9",
   "metadata": {},
   "outputs": [
    {
     "name": "stdout",
     "output_type": "stream",
     "text": [
      "[1, 2, 3]\n"
     ]
    }
   ],
   "source": [
    "print(multi_list[0])"
   ]
  },
  {
   "cell_type": "code",
   "execution_count": 8,
   "id": "1d9cbf29",
   "metadata": {},
   "outputs": [
    {
     "name": "stdout",
     "output_type": "stream",
     "text": [
      "['a', 'b', 'c']\n"
     ]
    }
   ],
   "source": [
    "print(multi_list[1])"
   ]
  },
  {
   "cell_type": "code",
   "execution_count": 9,
   "id": "f4b58a9a",
   "metadata": {},
   "outputs": [
    {
     "data": {
      "text/plain": [
       "2"
      ]
     },
     "execution_count": 9,
     "metadata": {},
     "output_type": "execute_result"
    }
   ],
   "source": [
    "# pull second item '2' from the first list\n",
    "multi_list[0][1]"
   ]
  },
  {
   "cell_type": "markdown",
   "id": "4e6ea3a0",
   "metadata": {},
   "source": [
    "# Tuple\n",
    "#### They are changeable\n",
    "#### Do not support item assignment\n",
    "#### they are immutable"
   ]
  },
  {
   "cell_type": "markdown",
   "id": "7ad73513",
   "metadata": {},
   "source": [
    "# Dictionaries"
   ]
  },
  {
   "cell_type": "code",
   "execution_count": 10,
   "id": "c34e57aa",
   "metadata": {},
   "outputs": [],
   "source": [
    "dictionaryl={'Nails':300,'Screws':200,'Hammers':4}"
   ]
  },
  {
   "cell_type": "code",
   "execution_count": 11,
   "id": "91467da5",
   "metadata": {},
   "outputs": [
    {
     "name": "stdout",
     "output_type": "stream",
     "text": [
      "200\n"
     ]
    }
   ],
   "source": [
    "print(dictionaryl.get('Screws'))"
   ]
  },
  {
   "cell_type": "code",
   "execution_count": 12,
   "id": "4914e3a9",
   "metadata": {},
   "outputs": [
    {
     "name": "stdout",
     "output_type": "stream",
     "text": [
      "4\n"
     ]
    }
   ],
   "source": [
    "print(dictionaryl['Hammers'])"
   ]
  },
  {
   "cell_type": "markdown",
   "id": "33c53b02",
   "metadata": {},
   "source": [
    "# Updating a Value in a Dictionary"
   ]
  },
  {
   "cell_type": "code",
   "execution_count": 13,
   "id": "0ab14db3",
   "metadata": {},
   "outputs": [],
   "source": [
    "this_dict={\"brand\":\"Ford\",\n",
    "          \"model\":\"Mustang\",\n",
    "         \"year\":1964\n",
    "         }"
   ]
  },
  {
   "cell_type": "code",
   "execution_count": 14,
   "id": "42da5df8",
   "metadata": {},
   "outputs": [],
   "source": [
    "#this_dict[\"year\"]=2018"
   ]
  },
  {
   "cell_type": "code",
   "execution_count": 15,
   "id": "468ab155",
   "metadata": {},
   "outputs": [
    {
     "name": "stdout",
     "output_type": "stream",
     "text": [
      "{'brand': 'Ford', 'model': 'Mustang', 'year': 1964}\n"
     ]
    }
   ],
   "source": [
    "print(this_dict)"
   ]
  },
  {
   "cell_type": "markdown",
   "id": "1c3e5065",
   "metadata": {},
   "source": [
    "# List into 1 dictionary"
   ]
  },
  {
   "cell_type": "code",
   "execution_count": 85,
   "id": "46223a1d",
   "metadata": {},
   "outputs": [],
   "source": [
    "#fruit names are our keys\n",
    "fruit_name_list=['apple','orange','banana','lime','strawberry']"
   ]
  },
  {
   "cell_type": "code",
   "execution_count": 86,
   "id": "d2d5a1d7",
   "metadata": {},
   "outputs": [],
   "source": [
    "#fruit colors are the values associated with the keys\n",
    "fruit_color_list=['red','orange','yellow','green','red']"
   ]
  },
  {
   "cell_type": "code",
   "execution_count": 87,
   "id": "3355dd45",
   "metadata": {},
   "outputs": [
    {
     "name": "stdout",
     "output_type": "stream",
     "text": [
      "apple\n",
      "orange\n",
      "banana\n",
      "lime\n",
      "strawberry\n"
     ]
    }
   ],
   "source": [
    "# for loops\n",
    "empty_dictionary={}\n",
    "for name in fruit_name_list:\n",
    "    print(name)"
   ]
  },
  {
   "cell_type": "code",
   "execution_count": 88,
   "id": "2683f3a3",
   "metadata": {},
   "outputs": [
    {
     "name": "stdout",
     "output_type": "stream",
     "text": [
      "apple red\n",
      "apple orange\n",
      "apple yellow\n",
      "apple green\n",
      "apple red\n",
      "orange red\n",
      "orange orange\n",
      "orange yellow\n",
      "orange green\n",
      "orange red\n",
      "banana red\n",
      "banana orange\n",
      "banana yellow\n",
      "banana green\n",
      "banana red\n",
      "lime red\n",
      "lime orange\n",
      "lime yellow\n",
      "lime green\n",
      "lime red\n",
      "strawberry red\n",
      "strawberry orange\n",
      "strawberry yellow\n",
      "strawberry green\n",
      "strawberry red\n"
     ]
    }
   ],
   "source": [
    "for name in fruit_name_list:\n",
    "    for color in fruit_color_list:\n",
    "        print(name,color)"
   ]
  },
  {
   "cell_type": "code",
   "execution_count": 89,
   "id": "22f41dae",
   "metadata": {},
   "outputs": [],
   "source": [
    "# for loops\n",
    "empty_dictionary={}"
   ]
  },
  {
   "cell_type": "code",
   "execution_count": 90,
   "id": "e23036bf",
   "metadata": {
    "scrolled": true
   },
   "outputs": [
    {
     "name": "stdout",
     "output_type": "stream",
     "text": [
      "{'apple': 'red'}\n",
      "{'apple': 'orange'}\n",
      "{'apple': 'yellow'}\n",
      "{'apple': 'green'}\n",
      "{'apple': 'red'}\n",
      "{'apple': 'red', 'orange': 'red'}\n",
      "{'apple': 'red', 'orange': 'orange'}\n",
      "{'apple': 'red', 'orange': 'yellow'}\n",
      "{'apple': 'red', 'orange': 'green'}\n",
      "{'apple': 'red', 'orange': 'red'}\n",
      "{'apple': 'red', 'orange': 'red', 'banana': 'red'}\n",
      "{'apple': 'red', 'orange': 'red', 'banana': 'orange'}\n",
      "{'apple': 'red', 'orange': 'red', 'banana': 'yellow'}\n",
      "{'apple': 'red', 'orange': 'red', 'banana': 'green'}\n",
      "{'apple': 'red', 'orange': 'red', 'banana': 'red'}\n",
      "{'apple': 'red', 'orange': 'red', 'banana': 'red', 'lime': 'red'}\n",
      "{'apple': 'red', 'orange': 'red', 'banana': 'red', 'lime': 'orange'}\n",
      "{'apple': 'red', 'orange': 'red', 'banana': 'red', 'lime': 'yellow'}\n",
      "{'apple': 'red', 'orange': 'red', 'banana': 'red', 'lime': 'green'}\n",
      "{'apple': 'red', 'orange': 'red', 'banana': 'red', 'lime': 'red'}\n",
      "{'apple': 'red', 'orange': 'red', 'banana': 'red', 'lime': 'red', 'strawberry': 'red'}\n",
      "{'apple': 'red', 'orange': 'red', 'banana': 'red', 'lime': 'red', 'strawberry': 'orange'}\n",
      "{'apple': 'red', 'orange': 'red', 'banana': 'red', 'lime': 'red', 'strawberry': 'yellow'}\n",
      "{'apple': 'red', 'orange': 'red', 'banana': 'red', 'lime': 'red', 'strawberry': 'green'}\n",
      "{'apple': 'red', 'orange': 'red', 'banana': 'red', 'lime': 'red', 'strawberry': 'red'}\n"
     ]
    }
   ],
   "source": [
    "for name in fruit_name_list:\n",
    "    for color in fruit_color_list:\n",
    "        empty_dictionary[name]=color\n",
    "        print(empty_dictionary)"
   ]
  },
  {
   "cell_type": "code",
   "execution_count": 91,
   "id": "e03e5153",
   "metadata": {},
   "outputs": [],
   "source": [
    "# for loops \n",
    "empty_dictionary={}"
   ]
  },
  {
   "cell_type": "code",
   "execution_count": 92,
   "id": "5447d780",
   "metadata": {},
   "outputs": [],
   "source": [
    "for name in fruit_name_list:\n",
    "    for color in fruit_color_list:\n",
    "        empty_dictionary[name]=color\n",
    "        fruit_color_list.remove(color)\n",
    "        break"
   ]
  },
  {
   "cell_type": "code",
   "execution_count": 93,
   "id": "1ee65036",
   "metadata": {},
   "outputs": [
    {
     "data": {
      "text/plain": [
       "{'apple': 'red',\n",
       " 'orange': 'orange',\n",
       " 'banana': 'yellow',\n",
       " 'lime': 'green',\n",
       " 'strawberry': 'red'}"
      ]
     },
     "execution_count": 93,
     "metadata": {},
     "output_type": "execute_result"
    }
   ],
   "source": [
    "empty_dictionary"
   ]
  },
  {
   "cell_type": "code",
   "execution_count": 94,
   "id": "783aca44",
   "metadata": {},
   "outputs": [],
   "source": [
    "# create an empty dictionary so that we can put all key value pains\n",
    "empty_dictionary={}"
   ]
  },
  {
   "cell_type": "code",
   "execution_count": 97,
   "id": "99bdd427",
   "metadata": {},
   "outputs": [],
   "source": [
    "for key in fruit_name_list:\n",
    "    for value in fruit_color_list:\n",
    "        empty_dictionary[key]=value\n",
    "        fruit_color_list.remove(value)\n",
    "        print(fruit_color_list)\n",
    "        print(' ')\n",
    "        break"
   ]
  },
  {
   "cell_type": "code",
   "execution_count": 96,
   "id": "b4d3744e",
   "metadata": {},
   "outputs": [
    {
     "data": {
      "text/plain": [
       "{}"
      ]
     },
     "execution_count": 96,
     "metadata": {},
     "output_type": "execute_result"
    }
   ],
   "source": [
    "empty_dictionary"
   ]
  },
  {
   "cell_type": "code",
   "execution_count": null,
   "id": "81de5a01",
   "metadata": {},
   "outputs": [],
   "source": []
  },
  {
   "cell_type": "code",
   "execution_count": null,
   "id": "96fb439d",
   "metadata": {},
   "outputs": [],
   "source": []
  }
 ],
 "metadata": {
  "kernelspec": {
   "display_name": "Python 3 (ipykernel)",
   "language": "python",
   "name": "python3"
  },
  "language_info": {
   "codemirror_mode": {
    "name": "ipython",
    "version": 3
   },
   "file_extension": ".py",
   "mimetype": "text/x-python",
   "name": "python",
   "nbconvert_exporter": "python",
   "pygments_lexer": "ipython3",
   "version": "3.9.13"
  }
 },
 "nbformat": 4,
 "nbformat_minor": 5
}
